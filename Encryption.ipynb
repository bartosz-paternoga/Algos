{
  "nbformat": 4,
  "nbformat_minor": 0,
  "metadata": {
    "colab": {
      "name": "Untitled25.ipynb",
      "version": "0.3.2",
      "provenance": [],
      "collapsed_sections": []
    },
    "kernelspec": {
      "name": "python3",
      "display_name": "Python 3"
    }
  },
  "cells": [
    {
      "metadata": {
        "id": "IAviNZw439ky",
        "colab_type": "code",
        "colab": {}
      },
      "cell_type": "code",
      "source": [
        "from secrets import token_bytes\n",
        "\n",
        "def random_key(length):\n",
        "# generate length random bytes\n",
        "  tb = token_bytes(length)\n",
        "# convert those bytes into a bit string and return it\n",
        "  return int.from_bytes(tb, \"big\")\n"
      ],
      "execution_count": 0,
      "outputs": []
    },
    {
      "metadata": {
        "id": "SwRO0Eb94En5",
        "colab_type": "code",
        "colab": {}
      },
      "cell_type": "code",
      "source": [
        "def encrypt(original):\n",
        "  original_bytes = original.encode()\n",
        "  dummy = random_key(len(original_bytes))\n",
        "  original_key = int.from_bytes(original_bytes, \"big\")\n",
        "  encrypted = original_key ^ dummy # XOR\n",
        "  print(\"original_key\",original_key,dummy,encrypted)\n",
        "  return dummy, encrypted\n"
      ],
      "execution_count": 0,
      "outputs": []
    },
    {
      "metadata": {
        "id": "Z-V6DeE__Yor",
        "colab_type": "code",
        "colab": {}
      },
      "cell_type": "code",
      "source": [
        "def decrypt(key1, key2):\n",
        "  decrypted = key1 ^ key2 # XOR\n",
        "  temp = decrypted.to_bytes((decrypted.bit_length()+ 7) // 8, \"big\")\n",
        "  return temp.decode()\n"
      ],
      "execution_count": 0,
      "outputs": []
    },
    {
      "metadata": {
        "id": "mMyFKWeW_fEF",
        "colab_type": "code",
        "colab": {
          "base_uri": "https://localhost:8080/",
          "height": 51
        },
        "outputId": "4d5402e3-3fc7-47d8-b8e0-581fb1f227f9"
      },
      "cell_type": "code",
      "source": [
        "key1, key2 = encrypt(\"One Time Pad!\")\n",
        "result = decrypt(key1, key2)\n",
        "print(result)\n"
      ],
      "execution_count": 50,
      "outputs": [
        {
          "output_type": "stream",
          "text": [
            "original_key 6293190443887862498352498304033 10337100713777556550238873027301 16248771091581457631873902765764\n",
            "One Time Pad!\n"
          ],
          "name": "stdout"
        }
      ]
    }
  ]
}